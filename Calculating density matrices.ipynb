{
 "cells": [
  {
   "cell_type": "code",
   "execution_count": 11,
   "id": "0c64cae7-bdc5-4f49-b9b8-f9f180061769",
   "metadata": {},
   "outputs": [],
   "source": [
    "import numpy as np\n",
    "from scipy.special import genlaguerre\n",
    "from scipy import integrate\n",
    "import math\n",
    "import matplotlib.pyplot as plt\n",
    "from mpl_toolkits.mplot3d import Axes3D\n",
    "from ipywidgets import interact\n",
    "from IPython.display import display"
   ]
  },
  {
   "cell_type": "markdown",
   "id": "14208d85-e9d3-4d99-bbcb-35bb067af97c",
   "metadata": {},
   "source": [
    "## The Wigner function"
   ]
  },
  {
   "cell_type": "code",
   "execution_count": 73,
   "id": "93017b75-8b88-43c9-b01e-1d413c70ae43",
   "metadata": {},
   "outputs": [],
   "source": [
    "def wigner(x, p, d = 0, F = np.identity(2)):\n",
    "    X, P = np.meshgrid(x, p)\n",
    "    n = 1\n",
    "    \n",
    "    r_ave = F @ np.array([0,0]) + d\n",
    "    cov = F @ (0.5 * np.array([[1,0],[0,1]])) @ F.T\n",
    "    \n",
    "    det_cov = np.linalg.det(cov)\n",
    "    inv_cov = np.linalg.inv(cov)\n",
    "\n",
    "    W = np.zeros_like(X)\n",
    "    \n",
    "    for i in range(X.shape[0]):\n",
    "        for j in range(X.shape[1]):\n",
    "            r = np.array([X[i,j],P[i,j]])\n",
    "            diff = r - r_ave\n",
    "            W[i,j] = 1/((2*np.pi)**(n) * np.sqrt(det_cov)) * np.exp(-0.5 * diff.T @ inv_cov @ diff)\n",
    "    return W"
   ]
  },
  {
   "cell_type": "markdown",
   "id": "b1dd541e-82ac-48c4-b38f-1a3fba39cff4",
   "metadata": {},
   "source": [
    "## The density matrix (from the Wigner function)"
   ]
  },
  {
   "cell_type": "code",
   "execution_count": 86,
   "id": "5864f326-47f9-4fad-a30b-d2abad29fae4",
   "metadata": {},
   "outputs": [],
   "source": [
    "def wigner_nm(x, p, n, m):    \n",
    "    if m<n:\n",
    "        poly = genlaguerre(m, n-m)\n",
    "        return (1/np.pi * np.exp(-X**2 - P**2) *\n",
    "                (-1)**n *\n",
    "                (X - 1j*P)**(m-n) *\n",
    "                np.sqrt(2**(m-n) * math.factorial(n) / math.factorial(m)) *\n",
    "                poly(2*X**2 + 2*P**2))\n",
    "    else:\n",
    "        poly = genlaguerre(n, m-n)\n",
    "        return np.conjugate(1/np.pi * np.exp(-X**2 - P**2) *\n",
    "                (-1)**n *\n",
    "                (X - 1j*P)**(m-n) *\n",
    "                np.sqrt(2**(m-n) * math.factorial(n) / math.factorial(m)) *\n",
    "                poly(2*X**2 + 2*P**2))"
   ]
  },
  {
   "cell_type": "code",
   "execution_count": 99,
   "id": "b0216486-4323-469a-8e74-da4e20f8cea9",
   "metadata": {},
   "outputs": [],
   "source": [
    "def density_matrix(x, p, d = 0, F = np.identity(2)):\n",
    "    rho = np.zeros(4, dtype=np.complex128).reshape(2,2)\n",
    "\n",
    "    x_incr = x[1] - x[0]\n",
    "    p_incr = x[1] - x[0]\n",
    "\n",
    "    X, P = np.meshgrid(x, p)\n",
    "    \n",
    "    W = wigner(x, p, d, F)\n",
    "    \n",
    "    \n",
    "    for i in range(2):\n",
    "        for j in range(2):\n",
    "            W_nm = wigner_nm(X, P, n = i, m = j)\n",
    "            rho[i, j] = np.round(np.sum(W * W_nm) * x_incr * p_incr * 2 * np.pi,4)\n",
    "    return rho"
   ]
  },
  {
   "cell_type": "code",
   "execution_count": 101,
   "id": "8d71d33b-912a-4739-9d93-b7e66fdedae5",
   "metadata": {},
   "outputs": [
    {
     "data": {
      "application/vnd.jupyter.widget-view+json": {
       "model_id": "149e0f735c2c4f45bddbda41b4332f30",
       "version_major": 2,
       "version_minor": 0
      },
      "text/plain": [
       "interactive(children=(FloatSlider(value=1.0, description='alpha_real', max=5.0, min=-5.0), FloatSlider(value=1…"
      ]
     },
     "metadata": {},
     "output_type": "display_data"
    }
   ],
   "source": [
    "@interact(alpha_real=(-5, 5, 0.1), alpha_imag=(-5, 5, 0.1), s=(-np.pi, np.pi, np.pi/128), theta=(-np.pi, np.pi, np.pi/128), show_signal=True)\n",
    "\n",
    "def plot_modsig(alpha_real = 1, alpha_imag = 1, s = 0, theta = 0, show_signal=True):\n",
    "    p = np.linspace(-4, 4, 100)\n",
    "    x = np.linspace(-4, 4, 100)\n",
    "\n",
    "    #Displacement\n",
    "    d = np.array([alpha_real, alpha_imag])\n",
    "    \n",
    "    #Squeezing\n",
    "    F_s = np.cosh(s) * np.identity(2) - np.sinh(s) * np.array([[np.cos(theta),np.sin(theta)],[np.sin(theta),-np.cos(theta)]])\n",
    "    \n",
    "    print(density_matrix(x, p, d = d, F = F_s))\n",
    "    W = wigner(X, P, d = d, F = F_s)\n",
    "    \n",
    "    fig = plt.figure(figsize=(8, 7))\n",
    "    ax = fig.add_subplot(111, projection='3d')\n",
    "    ax.plot_surface(X, P, W, cmap='viridis')\n",
    "\n",
    "    ax.set_xlabel('x', fontsize=18)\n",
    "    ax.set_ylabel('p', fontsize=18)\n",
    "    ax.text2D(0.75, 0.8, \"Wigner function\", transform=ax.transAxes, fontsize=18, rotation = -22.5)\n",
    "    \n",
    "    ax.view_init(elev=30, azim=135)\n",
    "\n",
    "    plt.show()"
   ]
  },
  {
   "cell_type": "code",
   "execution_count": null,
   "id": "14f3de5f-7959-483f-a488-751cdd34c14c",
   "metadata": {},
   "outputs": [],
   "source": []
  },
  {
   "cell_type": "code",
   "execution_count": null,
   "id": "8d411222-42b7-462c-9261-b83d25779a54",
   "metadata": {},
   "outputs": [],
   "source": []
  }
 ],
 "metadata": {
  "kernelspec": {
   "display_name": "Python 3 (ipykernel)",
   "language": "python",
   "name": "python3"
  },
  "language_info": {
   "codemirror_mode": {
    "name": "ipython",
    "version": 3
   },
   "file_extension": ".py",
   "mimetype": "text/x-python",
   "name": "python",
   "nbconvert_exporter": "python",
   "pygments_lexer": "ipython3",
   "version": "3.13.5"
  }
 },
 "nbformat": 4,
 "nbformat_minor": 5
}
