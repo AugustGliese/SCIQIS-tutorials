{
 "cells": [
  {
   "cell_type": "code",
   "execution_count": 1,
   "id": "f41c6ba1-1e97-4ae2-b2df-e2dba7c928d6",
   "metadata": {},
   "outputs": [],
   "source": [
    "import numpy as np"
   ]
  },
  {
   "cell_type": "code",
   "execution_count": 241,
   "id": "b41c3d00-f67a-42dd-b67f-b89b0c6010d8",
   "metadata": {},
   "outputs": [],
   "source": [
    "#Single qubit states\n",
    "v0 = np.array([[1],[0]])\n",
    "v1 = np.array([[0],[1]])\n",
    "\n",
    "#One qubit gates\n",
    "H = 1/np.sqrt(2) * np.array([[1,1],[1,-1]])\n",
    "X = np.array([[0,1],[1,0]])\n",
    "Y = np.array([[0,-1j],[1j,0]])\n",
    "Z = np.array([[1,0],[0,-1]])\n",
    "T = np.array([[1,0],[0, np.exp(1j*np.pi/4)]])\n",
    "\n",
    "#Acting one qubit gates\n",
    "def H_op(v):\n",
    "    return H @ v\n",
    "\n",
    "def X_op(v):\n",
    "    return X @ v\n",
    "    \n",
    "def Y_op(v):\n",
    "    return Y @ v\n",
    "    \n",
    "def Z_op(v):\n",
    "    return Z @ v\n",
    "\n",
    "def T_op(v):\n",
    "    return T @ v\n",
    "\n",
    "def phase_arb_op(v,theta):\n",
    "    P = np.array([[1,0],[0, np.exp(1j*theta/2)]])\n",
    "    return P @ v"
   ]
  },
  {
   "cell_type": "code",
   "execution_count": 279,
   "id": "4a5ded90-25e5-4047-b99c-379379d33c93",
   "metadata": {},
   "outputs": [],
   "source": [
    "#Two qubit gates\n",
    "CNOT = np.kron(np.outer(v0,v0), np.identity(2)) + np.kron(np.outer(v1,v1), X)\n",
    "rCNOT = np.kron(np.identity(2), np.outer(v0,v0)) + np.kron(X, np.outer(v1,v1))\n",
    "SWAP = CNOT @ rCNOT @ CNOT\n",
    "\n",
    "#Acting two qubit gates\n",
    "def CNOT_op(v, w, r = False):\n",
    "    if r == True:\n",
    "        return rCNOT @ np.kron(v, w)\n",
    "    else:\n",
    "        return CNOT @ np.kron(v, w)"
   ]
  },
  {
   "cell_type": "code",
   "execution_count": 405,
   "id": "39534bc7-b48f-40cb-b03e-f74469d9c700",
   "metadata": {},
   "outputs": [],
   "source": [
    "#Setting up the Bell states\n",
    "def Bell(x = 0, z = 0):\n",
    "    if (x == 0 and z == 0):\n",
    "        psi_0 = np.kron(v0,v0)\n",
    "    if (x == 1 and z == 0):\n",
    "        psi_0 = np.kron((v0),X_op(v0))\n",
    "    if (x == 0 and z == 1):\n",
    "        psi_0 = np.kron(X_op(v0),(v0))\n",
    "    if (x == 1 and z == 1):\n",
    "        psi_0 = np.kron(X_op(v0),X_op(v0))\n",
    "    psi_1 = np.kron(np.identity(2),H) @ psi_0\n",
    "    psi_2 = rCNOT @ psi_1\n",
    "    return psi_2"
   ]
  },
  {
   "cell_type": "code",
   "execution_count": 469,
   "id": "08bae010-3b01-4449-b473-5b6b88602cbf",
   "metadata": {},
   "outputs": [
    {
     "data": {
      "text/plain": [
       "3.0"
      ]
     },
     "execution_count": 469,
     "metadata": {},
     "output_type": "execute_result"
    }
   ],
   "source": [
    "np.log2(8)"
   ]
  },
  {
   "cell_type": "code",
   "execution_count": 693,
   "id": "f5c558cf-b79c-43fd-a414-603e6d25af50",
   "metadata": {},
   "outputs": [],
   "source": [
    "#Setting up measurements\n",
    "from functools import reduce\n",
    "def kron_all(matrices, n):\n",
    "    \"\"\"\n",
    "    Compute the Kronecker product of a list of matrices.\n",
    "    Equivalent to applying np.kron multiple times.\n",
    "    \"\"\"\n",
    "    if n == 0:\n",
    "        return 1\n",
    "    else:\n",
    "        return reduce(np.kron, [matrices]*n)\n",
    "\n",
    "\n",
    "rng = np.random.default_rng()\n",
    "\n",
    "#Single qubit measurement\n",
    "def measurement_single(psi):\n",
    "    output = rng.choice((0,1), p=[np.tensordot(psi,v0)**2, np.tensordot(psi,v1)**2])\n",
    "    if output:\n",
    "        state = v1\n",
    "    else:\n",
    "        state = v0\n",
    "    return output, state\n",
    "\n",
    "def measurement_multiple(psi, m = 1):\n",
    "    q = int(np.log2(len(psi)))\n",
    "    projector_0 = np.kron(kron_all(np.identity(2),q-m),np.kron(np.outer(v0,v0),kron_all(np.identity(2),m-1)))\n",
    "    projector_1 = np.kron(kron_all(np.identity(2),q-m),np.kron(np.outer(v1,v1),kron_all(np.identity(2),m-1)))\n",
    "    state_0 = projector_0 @ psi\n",
    "    state_1 = projector_1 @ psi\n",
    "    print(np.tensordot(psi,state_0)**2, np.tensordot(psi,state_1)**2)\n",
    "    print(state_0, state_1)\n",
    "    print(projector_0, projector_1)\n",
    "    #return output, state"
   ]
  },
  {
   "cell_type": "code",
   "execution_count": null,
   "id": "08ae6d86-24a0-4ec4-ab6b-e6a003cdff82",
   "metadata": {},
   "outputs": [],
   "source": [
    "    output = rng.choice((0,1), p=[np.tensordot(psi,state_0)**2, np.tensordot(psi,state_1)**2])\n",
    "    if output:\n",
    "        state = state_0\n",
    "    else:\n",
    "        state = state_1"
   ]
  },
  {
   "cell_type": "code",
   "execution_count": 671,
   "id": "43cb0d8e-3a28-4707-ba99-d80633e62e21",
   "metadata": {},
   "outputs": [
    {
     "data": {
      "text/plain": [
       "1"
      ]
     },
     "execution_count": 671,
     "metadata": {},
     "output_type": "execute_result"
    }
   ],
   "source": [
    "q = int(np.log2(len(psi_1)))\n",
    "q-1-1"
   ]
  },
  {
   "cell_type": "code",
   "execution_count": 673,
   "id": "928ecb54-e8ea-4e9f-871f-13f1be3b47fc",
   "metadata": {},
   "outputs": [
    {
     "name": "stdout",
     "output_type": "stream",
     "text": [
      "3 1 1\n"
     ]
    },
    {
     "data": {
      "text/plain": [
       "(array([[1., 0., 0., 0., 0., 0., 0., 0.],\n",
       "        [0., 1., 0., 0., 0., 0., 0., 0.],\n",
       "        [0., 0., 0., 0., 0., 0., 0., 0.],\n",
       "        [0., 0., 0., 0., 0., 0., 0., 0.],\n",
       "        [0., 0., 0., 0., 1., 0., 0., 0.],\n",
       "        [0., 0., 0., 0., 0., 1., 0., 0.],\n",
       "        [0., 0., 0., 0., 0., 0., 0., 0.],\n",
       "        [0., 0., 0., 0., 0., 0., 0., 0.]]),\n",
       " array([[0., 0., 0., 0., 0., 0., 0., 0.],\n",
       "        [0., 0., 0., 0., 0., 0., 0., 0.],\n",
       "        [0., 0., 1., 0., 0., 0., 0., 0.],\n",
       "        [0., 0., 0., 1., 0., 0., 0., 0.],\n",
       "        [0., 0., 0., 0., 0., 0., 0., 0.],\n",
       "        [0., 0., 0., 0., 0., 0., 0., 0.],\n",
       "        [0., 0., 0., 0., 0., 0., 1., 0.],\n",
       "        [0., 0., 0., 0., 0., 0., 0., 1.]]))"
      ]
     },
     "execution_count": 673,
     "metadata": {},
     "output_type": "execute_result"
    }
   ],
   "source": [
    "measurement_multiple(psi_1, m = 2)"
   ]
  },
  {
   "cell_type": "code",
   "execution_count": 579,
   "id": "b88fb5b9-6c86-4e39-a0b4-4de9583d5500",
   "metadata": {},
   "outputs": [
    {
     "data": {
      "text/plain": [
       "(1,\n",
       " array([[0],\n",
       "        [1]]))"
      ]
     },
     "execution_count": 579,
     "metadata": {},
     "output_type": "execute_result"
    }
   ],
   "source": [
    "measurement_single(H_op(v0))"
   ]
  },
  {
   "cell_type": "markdown",
   "id": "a7d5aa55-c9ba-4408-a551-e625d7c1b364",
   "metadata": {
    "jp-MarkdownHeadingCollapsed": true
   },
   "source": [
    "q = int(np.log2(len(psi_1)))\n",
    "n = 2\n",
    "(np.kron(np.kron(np.identity(2**(q-n)),v0),np.identity(2**(n-1))), psi_1)"
   ]
  },
  {
   "cell_type": "code",
   "execution_count": 695,
   "id": "866e34ab-272a-4e7e-a1bf-723c8327015b",
   "metadata": {},
   "outputs": [
    {
     "name": "stdout",
     "output_type": "stream",
     "text": [
      "0.2499999999999999 0.2499999999999999\n",
      "[[0.70710678]\n",
      " [0.        ]\n",
      " [0.        ]\n",
      " [0.        ]\n",
      " [0.        ]\n",
      " [0.        ]\n",
      " [0.        ]\n",
      " [0.        ]] [[0.        ]\n",
      " [0.        ]\n",
      " [0.        ]\n",
      " [0.        ]\n",
      " [0.        ]\n",
      " [0.        ]\n",
      " [0.70710678]\n",
      " [0.        ]]\n",
      "[[1. 0. 0. 0. 0. 0. 0. 0.]\n",
      " [0. 1. 0. 0. 0. 0. 0. 0.]\n",
      " [0. 0. 0. 0. 0. 0. 0. 0.]\n",
      " [0. 0. 0. 0. 0. 0. 0. 0.]\n",
      " [0. 0. 0. 0. 1. 0. 0. 0.]\n",
      " [0. 0. 0. 0. 0. 1. 0. 0.]\n",
      " [0. 0. 0. 0. 0. 0. 0. 0.]\n",
      " [0. 0. 0. 0. 0. 0. 0. 0.]] [[0. 0. 0. 0. 0. 0. 0. 0.]\n",
      " [0. 0. 0. 0. 0. 0. 0. 0.]\n",
      " [0. 0. 1. 0. 0. 0. 0. 0.]\n",
      " [0. 0. 0. 1. 0. 0. 0. 0.]\n",
      " [0. 0. 0. 0. 0. 0. 0. 0.]\n",
      " [0. 0. 0. 0. 0. 0. 0. 0.]\n",
      " [0. 0. 0. 0. 0. 0. 1. 0.]\n",
      " [0. 0. 0. 0. 0. 0. 0. 1.]]\n"
     ]
    }
   ],
   "source": [
    "#Teleportation scheme\n",
    "tele_qubit = v0\n",
    "psi_0 = np.kron(Bell(0,0),tele_qubit)\n",
    "psi_1 = np.kron(np.identity(2),rCNOT) @ psi_0\n",
    "measurement_multiple(psi_1, 2)"
   ]
  },
  {
   "cell_type": "code",
   "execution_count": 239,
   "id": "2dbf3401-efca-4046-962c-137c8b4cbf56",
   "metadata": {},
   "outputs": [
    {
     "data": {
      "text/plain": [
       "(array([[0.],\n",
       "        [0.],\n",
       "        [1.],\n",
       "        [0.]]),\n",
       " array([[0],\n",
       "        [1],\n",
       "        [0],\n",
       "        [0]]))"
      ]
     },
     "execution_count": 239,
     "metadata": {},
     "output_type": "execute_result"
    }
   ],
   "source": [
    "SWAP @ np.kron(v0,v1), np.kron(v0,v1)"
   ]
  },
  {
   "cell_type": "code",
   "execution_count": 109,
   "id": "56bdfa81-269f-4c9f-ab6d-0db704b92ec6",
   "metadata": {},
   "outputs": [
    {
     "data": {
      "text/plain": [
       "array([[ 7.07106781e-01+0.70710678j],\n",
       "       [-2.23711432e-17+0.j        ]])"
      ]
     },
     "execution_count": 109,
     "metadata": {},
     "output_type": "execute_result"
    }
   ],
   "source": [
    "v1 = np.array([[1],[0]])\n",
    "v2 = 1/np.sqrt(2) * np.array([[1], [-1]])\n",
    "psi = X(T(hadamard(v)))\n",
    "psi"
   ]
  },
  {
   "cell_type": "code",
   "execution_count": 57,
   "id": "2be094cf-7830-4dae-86cc-eafcd2d1f8fc",
   "metadata": {},
   "outputs": [
    {
     "data": {
      "text/plain": [
       "array([[-2.23711432e-17],\n",
       "       [ 1.00000000e+00]])"
      ]
     },
     "execution_count": 57,
     "metadata": {},
     "output_type": "execute_result"
    }
   ],
   "source": [
    "H = 1/np.sqrt(2) * np.array([[1,1],[1,-1]])\n",
    "v = 1/np.sqrt(2) * np.array([[1], [-1]])\n",
    "H @ v"
   ]
  },
  {
   "cell_type": "code",
   "execution_count": null,
   "id": "89a9b5cb-eea4-4e59-aa00-4c582702dfb9",
   "metadata": {},
   "outputs": [],
   "source": []
  }
 ],
 "metadata": {
  "kernelspec": {
   "display_name": "Python (sciqis)",
   "language": "python",
   "name": "sciqis"
  },
  "language_info": {
   "codemirror_mode": {
    "name": "ipython",
    "version": 3
   },
   "file_extension": ".py",
   "mimetype": "text/x-python",
   "name": "python",
   "nbconvert_exporter": "python",
   "pygments_lexer": "ipython3",
   "version": "3.12.7"
  }
 },
 "nbformat": 4,
 "nbformat_minor": 5
}
